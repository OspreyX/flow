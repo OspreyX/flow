{
 "metadata": {
  "name": "Affine"
 },
 "nbformat": 3,
 "nbformat_minor": 0,
 "worksheets": [
  {
   "cells": [
    {
     "cell_type": "code",
     "collapsed": false,
     "input": [],
     "language": "python",
     "metadata": {},
     "outputs": []
    },
    {
     "cell_type": "code",
     "collapsed": false,
     "input": [],
     "language": "python",
     "metadata": {},
     "outputs": []
    },
    {
     "cell_type": "markdown",
     "metadata": {},
     "source": [
      "$$dX_t=\\mu_t dt + \\Sigma d W_t$$\n"
     ]
    },
    {
     "cell_type": "heading",
     "level": 1,
     "metadata": {},
     "source": [
      "Term structure models"
     ]
    },
    {
     "cell_type": "markdown",
     "metadata": {},
     "source": [
      "The short rate is a **linear function** of the state variables\n",
      "\n",
      "$$r_t=\\delta_0 + \\delta_1 X_t$$"
     ]
    },
    {
     "cell_type": "markdown",
     "metadata": {},
     "source": [
      "$$\\psi_{{\\bf x}_t}(T,{\\bf c},m) = a_t(T,{\\bf c},m) + {\\bf b}_t(T,{\\bf c},m)\\cdot {\\bf x}_t$$"
     ]
    },
    {
     "cell_type": "markdown",
     "metadata": {},
     "source": [
      "$$\\chi^0_{{\\bf x}_t}(T,{\\bf c},m)$$"
     ]
    },
    {
     "cell_type": "heading",
     "level": 1,
     "metadata": {},
     "source": [
      "Exponential"
     ]
    },
    {
     "cell_type": "markdown",
     "metadata": {},
     "source": [
      "$$\\\\begin{align*}\n",
      "z_t &= e^{{\\bf m}\\cdot{\\bf x_t} - c_t}\\\\\\\\\n",
      "k_t &= \\ln{E\\left[e^{{\\bf m}\\cdot{\\bf x_t}}\\right]}\n",
      "\\\\end{align*}$$\n",
      "\n",
      "where $k_t$ is the exponential compensator of $x_t$."
     ]
    },
    {
     "cell_type": "markdown",
     "metadata": {},
     "source": [
      "$$B=\\\\int_t^T$$"
     ]
    },
    {
     "cell_type": "heading",
     "level": 2,
     "metadata": {},
     "source": [
      "Laplace Cumulant process"
     ]
    },
    {
     "cell_type": "markdown",
     "metadata": {},
     "source": [
      "The laplace cumulant of a semimartingale ${\\\\bf x}_t$ is $\\theta$ is given by the following expression.\n",
      "\n",
      "$$e^{\\kappa(\\theta)} = {\\\\tt E}\\\\left[e^{\\theta \\cdot x_t}\\\\right]$$"
     ]
    },
    {
     "cell_type": "markdown",
     "metadata": {},
     "source": [
      "$$\\kappa (u)=u \\cdot B + \\frac{1}{2} u \\cdot C \\cdot u + \\left(e^{u \\cdot x}-1-u\\cdot h(x)\\right) * \\nu$$"
     ]
    }
   ],
   "metadata": {}
  }
 ]
}